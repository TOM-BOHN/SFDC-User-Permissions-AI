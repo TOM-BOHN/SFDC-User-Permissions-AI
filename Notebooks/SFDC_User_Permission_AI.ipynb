{
  "cells": [
    {
      "cell_type": "markdown",
      "metadata": {
        "colab_type": "text",
        "id": "view-in-github"
      },
      "source": [
        "<a href=\"https://colab.research.google.com/github/TOM-BOHN/SFDC-User-Permissions-AI/blob/main/Notebooks/SFDC_User_Permission_AI.ipynb\" target=\"_parent\"><img src=\"https://colab.research.google.com/assets/colab-badge.svg\" alt=\"Open In Colab\"/></a>"
      ]
    },
    {
      "cell_type": "markdown",
      "metadata": {
        "id": "2XeNpHBHuQbd"
      },
      "source": [
        "## Setup\n",
        "\n",
        "Install the Python SDK."
      ]
    },
    {
      "cell_type": "code",
      "execution_count": 1,
      "metadata": {
        "colab": {
          "base_uri": "https://localhost:8080/"
        },
        "id": "KTiur3ugwsqm",
        "outputId": "55290a29-cfc3-4095-ca27-ccf1bc034a06"
      },
      "outputs": [
        {
          "name": "stdout",
          "output_type": "stream",
          "text": [
            "Cloning into 'SFDC-User-Permissions-AI'...\n",
            "remote: Enumerating objects: 121, done.\u001b[K\n",
            "remote: Counting objects: 100% (121/121), done.\u001b[K\n",
            "remote: Compressing objects: 100% (94/94), done.\u001b[K\n",
            "remote: Total 121 (delta 51), reused 78 (delta 22), pack-reused 0 (from 0)\u001b[K\n",
            "Receiving objects: 100% (121/121), 51.95 KiB | 858.00 KiB/s, done.\n",
            "Resolving deltas: 100% (51/51), done.\n"
          ]
        }
      ],
      "source": [
        "!git clone https://github.com/TOM-BOHN/SFDC-User-Permissions-AI.git"
      ]
    },
    {
      "cell_type": "code",
      "execution_count": 2,
      "metadata": {
        "colab": {
          "base_uri": "https://localhost:8080/"
        },
        "id": "rRawv3cAsJQz",
        "outputId": "7ecef277-943e-4c05-f698-0d11da033f69"
      },
      "outputs": [
        {
          "name": "stdout",
          "output_type": "stream",
          "text": [
            "\u001b[?25l   \u001b[90m━━━━━━━━━━━━━━━━━━━━━━━━━━━━━━━━━━━━━━━━\u001b[0m \u001b[32m0.0/144.7 kB\u001b[0m \u001b[31m?\u001b[0m eta \u001b[36m-:--:--\u001b[0m\r\u001b[2K   \u001b[91m━━━━━━━━━━━━━━━━━━━━━━━━━━━━━━━━━━━━━━━\u001b[0m\u001b[91m╸\u001b[0m \u001b[32m143.4/144.7 kB\u001b[0m \u001b[31m8.5 MB/s\u001b[0m eta \u001b[36m0:00:01\u001b[0m\r\u001b[2K   \u001b[90m━━━━━━━━━━━━━━━━━━━━━━━━━━━━━━━━━━━━━━━━\u001b[0m \u001b[32m144.7/144.7 kB\u001b[0m \u001b[31m3.7 MB/s\u001b[0m eta \u001b[36m0:00:00\u001b[0m\n",
            "\u001b[?25h"
          ]
        }
      ],
      "source": [
        "!pip install -Uq \"google-genai==1.7.0\""
      ]
    },
    {
      "cell_type": "code",
      "execution_count": 10,
      "metadata": {
        "id": "U3gzBME5tC6t"
      },
      "outputs": [],
      "source": [
        "from google import genai\n",
        "from google.genai import types\n",
        "\n",
        "from IPython.display import Markdown, display\n",
        "\n",
        "genai.__version__\n",
        "\n",
        "###################################\n",
        "\n",
        "import sys\n",
        "import os\n",
        "import time\n",
        "\n",
        "import enum\n",
        "import json\n",
        "\n",
        "import pandas as pd\n",
        "\n",
        "###################################\n",
        "\n",
        "os.chdir('/content/SFDC-User-Permissions-AI')\n",
        "\n",
        "###################################\n",
        "\n",
        "# Import the processing functions\n",
        "from src.processing import extract_json_fields\n",
        "from src.utils.data_utils import save_data\n",
        "from src.llms import RiskRating, eval_summary, create_chat_session, classify_risk_rating"
      ]
    },
    {
      "cell_type": "markdown",
      "metadata": {
        "id": "EPn9uRibtPgd"
      },
      "source": [
        "### Set up your API key\n",
        "\n",
        "To run the following cell, your API key must be stored it in a [Kaggle secret](https://www.kaggle.com/discussions/product-feedback/114053) named `GOOGLE_API_KEY`.\n",
        "\n",
        "If you don't already have an API key, you can grab one from [AI Studio](https://aistudio.google.com/app/apikey). You can find [detailed instructions in the docs](https://ai.google.dev/gemini-api/docs/api-key).\n",
        "\n",
        "To make the key available through Kaggle secrets, choose `Secrets` from the `Add-ons` menu and follow the instructions to add your key or enable it for this notebook."
      ]
    },
    {
      "cell_type": "code",
      "execution_count": 4,
      "metadata": {
        "id": "8M35L-UbtQ1Y"
      },
      "outputs": [],
      "source": [
        "from google.colab import userdata\n",
        "\n",
        "client = genai.Client(api_key=userdata.get('GOOGLE_API_KEY'))"
      ]
    },
    {
      "cell_type": "markdown",
      "metadata": {
        "id": "tVKDce70uG-F"
      },
      "source": [
        "### Automated retry\n",
        "\n",
        "This codelab sends a lot of requests, so set up an automatic retry\n",
        "that ensures your requests are retried when per-minute quota is reached."
      ]
    },
    {
      "cell_type": "code",
      "execution_count": 5,
      "metadata": {
        "id": "kq6KFacDt2P5"
      },
      "outputs": [],
      "source": [
        "from google.api_core import retry\n",
        "\n",
        "is_retriable = lambda e: (isinstance(e, genai.errors.APIError) and e.code in {429, 503})\n",
        "\n",
        "if not hasattr(genai.models.Models.generate_content, '__wrapped__'):\n",
        "  genai.models.Models.generate_content = retry.Retry(\n",
        "      predicate=is_retriable)(genai.models.Models.generate_content)"
      ]
    },
    {
      "cell_type": "code",
      "execution_count": 6,
      "metadata": {
        "colab": {
          "base_uri": "https://localhost:8080/",
          "height": 206
        },
        "id": "7EVeq8fVuKX_",
        "outputId": "5db12505-8e40-45f4-d7ac-ab2ce9412254"
      },
      "outputs": [
        {
          "data": {
            "application/vnd.google.colaboratory.intrinsic+json": {
              "summary": "{\n  \"name\": \"perm_list_df\",\n  \"rows\": 58,\n  \"fields\": [\n    {\n      \"column\": \"Permission Name\",\n      \"properties\": {\n        \"dtype\": \"string\",\n        \"num_unique_values\": 58,\n        \"samples\": [\n          \"Access Data Cloud Data Explorer\",\n          \"Customize Application\",\n          \"Weekly Data Export\"\n        ],\n        \"semantic_type\": \"\",\n        \"description\": \"\"\n      }\n    },\n    {\n      \"column\": \"API Name\",\n      \"properties\": {\n        \"dtype\": \"string\",\n        \"num_unique_values\": 57,\n        \"samples\": [\n          \"AccessCdpDataExplorer\",\n          \"CustomizeApplication\",\n          \"ViewEncryptedData\"\n        ],\n        \"semantic_type\": \"\",\n        \"description\": \"\"\n      }\n    },\n    {\n      \"column\": \"Description\",\n      \"properties\": {\n        \"dtype\": \"string\",\n        \"num_unique_values\": 58,\n        \"samples\": [\n          \"Allows user access Data Cloud Data Explorer.\",\n          \"Customize the organization using App Setup menu options.\",\n          \"Run the weekly data export service.\"\n        ],\n        \"semantic_type\": \"\",\n        \"description\": \"\"\n      }\n    }\n  ]\n}",
              "type": "dataframe",
              "variable_name": "perm_list_df"
            },
            "text/html": [
              "\n",
              "  <div id=\"df-cbd5dcf6-5453-4518-b6d8-955fdd5598e0\" class=\"colab-df-container\">\n",
              "    <div>\n",
              "<style scoped>\n",
              "    .dataframe tbody tr th:only-of-type {\n",
              "        vertical-align: middle;\n",
              "    }\n",
              "\n",
              "    .dataframe tbody tr th {\n",
              "        vertical-align: top;\n",
              "    }\n",
              "\n",
              "    .dataframe thead th {\n",
              "        text-align: right;\n",
              "    }\n",
              "</style>\n",
              "<table border=\"1\" class=\"dataframe\">\n",
              "  <thead>\n",
              "    <tr style=\"text-align: right;\">\n",
              "      <th></th>\n",
              "      <th>Permission Name</th>\n",
              "      <th>API Name</th>\n",
              "      <th>Description</th>\n",
              "    </tr>\n",
              "  </thead>\n",
              "  <tbody>\n",
              "    <tr>\n",
              "      <th>0</th>\n",
              "      <td>Access Data Cloud Data Explorer</td>\n",
              "      <td>AccessCdpDataExplorer</td>\n",
              "      <td>Allows user access Data Cloud Data Explorer.</td>\n",
              "    </tr>\n",
              "    <tr>\n",
              "      <th>1</th>\n",
              "      <td>Administer territory operations</td>\n",
              "      <td>ManageTerritories</td>\n",
              "      <td>Prerequisite user permission for a user to man...</td>\n",
              "    </tr>\n",
              "    <tr>\n",
              "      <th>2</th>\n",
              "      <td>Allow sending of List Emails</td>\n",
              "      <td>ListEmailSend</td>\n",
              "      <td>Allow users to create, edit and send List Emails</td>\n",
              "    </tr>\n",
              "    <tr>\n",
              "      <th>3</th>\n",
              "      <td>Api Only User</td>\n",
              "      <td>ApiUserOnly</td>\n",
              "      <td>Access Salesforce.com only through a Salesforc...</td>\n",
              "    </tr>\n",
              "    <tr>\n",
              "      <th>4</th>\n",
              "      <td>Author Apex</td>\n",
              "      <td>AuthorApex</td>\n",
              "      <td>Create Apex classes and triggers.</td>\n",
              "    </tr>\n",
              "  </tbody>\n",
              "</table>\n",
              "</div>\n",
              "    <div class=\"colab-df-buttons\">\n",
              "\n",
              "  <div class=\"colab-df-container\">\n",
              "    <button class=\"colab-df-convert\" onclick=\"convertToInteractive('df-cbd5dcf6-5453-4518-b6d8-955fdd5598e0')\"\n",
              "            title=\"Convert this dataframe to an interactive table.\"\n",
              "            style=\"display:none;\">\n",
              "\n",
              "  <svg xmlns=\"http://www.w3.org/2000/svg\" height=\"24px\" viewBox=\"0 -960 960 960\">\n",
              "    <path d=\"M120-120v-720h720v720H120Zm60-500h600v-160H180v160Zm220 220h160v-160H400v160Zm0 220h160v-160H400v160ZM180-400h160v-160H180v160Zm440 0h160v-160H620v160ZM180-180h160v-160H180v160Zm440 0h160v-160H620v160Z\"/>\n",
              "  </svg>\n",
              "    </button>\n",
              "\n",
              "  <style>\n",
              "    .colab-df-container {\n",
              "      display:flex;\n",
              "      gap: 12px;\n",
              "    }\n",
              "\n",
              "    .colab-df-convert {\n",
              "      background-color: #E8F0FE;\n",
              "      border: none;\n",
              "      border-radius: 50%;\n",
              "      cursor: pointer;\n",
              "      display: none;\n",
              "      fill: #1967D2;\n",
              "      height: 32px;\n",
              "      padding: 0 0 0 0;\n",
              "      width: 32px;\n",
              "    }\n",
              "\n",
              "    .colab-df-convert:hover {\n",
              "      background-color: #E2EBFA;\n",
              "      box-shadow: 0px 1px 2px rgba(60, 64, 67, 0.3), 0px 1px 3px 1px rgba(60, 64, 67, 0.15);\n",
              "      fill: #174EA6;\n",
              "    }\n",
              "\n",
              "    .colab-df-buttons div {\n",
              "      margin-bottom: 4px;\n",
              "    }\n",
              "\n",
              "    [theme=dark] .colab-df-convert {\n",
              "      background-color: #3B4455;\n",
              "      fill: #D2E3FC;\n",
              "    }\n",
              "\n",
              "    [theme=dark] .colab-df-convert:hover {\n",
              "      background-color: #434B5C;\n",
              "      box-shadow: 0px 1px 3px 1px rgba(0, 0, 0, 0.15);\n",
              "      filter: drop-shadow(0px 1px 2px rgba(0, 0, 0, 0.3));\n",
              "      fill: #FFFFFF;\n",
              "    }\n",
              "  </style>\n",
              "\n",
              "    <script>\n",
              "      const buttonEl =\n",
              "        document.querySelector('#df-cbd5dcf6-5453-4518-b6d8-955fdd5598e0 button.colab-df-convert');\n",
              "      buttonEl.style.display =\n",
              "        google.colab.kernel.accessAllowed ? 'block' : 'none';\n",
              "\n",
              "      async function convertToInteractive(key) {\n",
              "        const element = document.querySelector('#df-cbd5dcf6-5453-4518-b6d8-955fdd5598e0');\n",
              "        const dataTable =\n",
              "          await google.colab.kernel.invokeFunction('convertToInteractive',\n",
              "                                                    [key], {});\n",
              "        if (!dataTable) return;\n",
              "\n",
              "        const docLinkHtml = 'Like what you see? Visit the ' +\n",
              "          '<a target=\"_blank\" href=https://colab.research.google.com/notebooks/data_table.ipynb>data table notebook</a>'\n",
              "          + ' to learn more about interactive tables.';\n",
              "        element.innerHTML = '';\n",
              "        dataTable['output_type'] = 'display_data';\n",
              "        await google.colab.output.renderOutput(dataTable, element);\n",
              "        const docLink = document.createElement('div');\n",
              "        docLink.innerHTML = docLinkHtml;\n",
              "        element.appendChild(docLink);\n",
              "      }\n",
              "    </script>\n",
              "  </div>\n",
              "\n",
              "\n",
              "<div id=\"df-04ace3b3-535b-44b4-9f6b-aeb4aad5c7dc\">\n",
              "  <button class=\"colab-df-quickchart\" onclick=\"quickchart('df-04ace3b3-535b-44b4-9f6b-aeb4aad5c7dc')\"\n",
              "            title=\"Suggest charts\"\n",
              "            style=\"display:none;\">\n",
              "\n",
              "<svg xmlns=\"http://www.w3.org/2000/svg\" height=\"24px\"viewBox=\"0 0 24 24\"\n",
              "     width=\"24px\">\n",
              "    <g>\n",
              "        <path d=\"M19 3H5c-1.1 0-2 .9-2 2v14c0 1.1.9 2 2 2h14c1.1 0 2-.9 2-2V5c0-1.1-.9-2-2-2zM9 17H7v-7h2v7zm4 0h-2V7h2v10zm4 0h-2v-4h2v4z\"/>\n",
              "    </g>\n",
              "</svg>\n",
              "  </button>\n",
              "\n",
              "<style>\n",
              "  .colab-df-quickchart {\n",
              "      --bg-color: #E8F0FE;\n",
              "      --fill-color: #1967D2;\n",
              "      --hover-bg-color: #E2EBFA;\n",
              "      --hover-fill-color: #174EA6;\n",
              "      --disabled-fill-color: #AAA;\n",
              "      --disabled-bg-color: #DDD;\n",
              "  }\n",
              "\n",
              "  [theme=dark] .colab-df-quickchart {\n",
              "      --bg-color: #3B4455;\n",
              "      --fill-color: #D2E3FC;\n",
              "      --hover-bg-color: #434B5C;\n",
              "      --hover-fill-color: #FFFFFF;\n",
              "      --disabled-bg-color: #3B4455;\n",
              "      --disabled-fill-color: #666;\n",
              "  }\n",
              "\n",
              "  .colab-df-quickchart {\n",
              "    background-color: var(--bg-color);\n",
              "    border: none;\n",
              "    border-radius: 50%;\n",
              "    cursor: pointer;\n",
              "    display: none;\n",
              "    fill: var(--fill-color);\n",
              "    height: 32px;\n",
              "    padding: 0;\n",
              "    width: 32px;\n",
              "  }\n",
              "\n",
              "  .colab-df-quickchart:hover {\n",
              "    background-color: var(--hover-bg-color);\n",
              "    box-shadow: 0 1px 2px rgba(60, 64, 67, 0.3), 0 1px 3px 1px rgba(60, 64, 67, 0.15);\n",
              "    fill: var(--button-hover-fill-color);\n",
              "  }\n",
              "\n",
              "  .colab-df-quickchart-complete:disabled,\n",
              "  .colab-df-quickchart-complete:disabled:hover {\n",
              "    background-color: var(--disabled-bg-color);\n",
              "    fill: var(--disabled-fill-color);\n",
              "    box-shadow: none;\n",
              "  }\n",
              "\n",
              "  .colab-df-spinner {\n",
              "    border: 2px solid var(--fill-color);\n",
              "    border-color: transparent;\n",
              "    border-bottom-color: var(--fill-color);\n",
              "    animation:\n",
              "      spin 1s steps(1) infinite;\n",
              "  }\n",
              "\n",
              "  @keyframes spin {\n",
              "    0% {\n",
              "      border-color: transparent;\n",
              "      border-bottom-color: var(--fill-color);\n",
              "      border-left-color: var(--fill-color);\n",
              "    }\n",
              "    20% {\n",
              "      border-color: transparent;\n",
              "      border-left-color: var(--fill-color);\n",
              "      border-top-color: var(--fill-color);\n",
              "    }\n",
              "    30% {\n",
              "      border-color: transparent;\n",
              "      border-left-color: var(--fill-color);\n",
              "      border-top-color: var(--fill-color);\n",
              "      border-right-color: var(--fill-color);\n",
              "    }\n",
              "    40% {\n",
              "      border-color: transparent;\n",
              "      border-right-color: var(--fill-color);\n",
              "      border-top-color: var(--fill-color);\n",
              "    }\n",
              "    60% {\n",
              "      border-color: transparent;\n",
              "      border-right-color: var(--fill-color);\n",
              "    }\n",
              "    80% {\n",
              "      border-color: transparent;\n",
              "      border-right-color: var(--fill-color);\n",
              "      border-bottom-color: var(--fill-color);\n",
              "    }\n",
              "    90% {\n",
              "      border-color: transparent;\n",
              "      border-bottom-color: var(--fill-color);\n",
              "    }\n",
              "  }\n",
              "</style>\n",
              "\n",
              "  <script>\n",
              "    async function quickchart(key) {\n",
              "      const quickchartButtonEl =\n",
              "        document.querySelector('#' + key + ' button');\n",
              "      quickchartButtonEl.disabled = true;  // To prevent multiple clicks.\n",
              "      quickchartButtonEl.classList.add('colab-df-spinner');\n",
              "      try {\n",
              "        const charts = await google.colab.kernel.invokeFunction(\n",
              "            'suggestCharts', [key], {});\n",
              "      } catch (error) {\n",
              "        console.error('Error during call to suggestCharts:', error);\n",
              "      }\n",
              "      quickchartButtonEl.classList.remove('colab-df-spinner');\n",
              "      quickchartButtonEl.classList.add('colab-df-quickchart-complete');\n",
              "    }\n",
              "    (() => {\n",
              "      let quickchartButtonEl =\n",
              "        document.querySelector('#df-04ace3b3-535b-44b4-9f6b-aeb4aad5c7dc button');\n",
              "      quickchartButtonEl.style.display =\n",
              "        google.colab.kernel.accessAllowed ? 'block' : 'none';\n",
              "    })();\n",
              "  </script>\n",
              "</div>\n",
              "\n",
              "    </div>\n",
              "  </div>\n"
            ],
            "text/plain": [
              "                   Permission Name               API Name  \\\n",
              "0  Access Data Cloud Data Explorer  AccessCdpDataExplorer   \n",
              "1  Administer territory operations      ManageTerritories   \n",
              "2     Allow sending of List Emails          ListEmailSend   \n",
              "3                    Api Only User            ApiUserOnly   \n",
              "4                      Author Apex             AuthorApex   \n",
              "\n",
              "                                         Description  \n",
              "0       Allows user access Data Cloud Data Explorer.  \n",
              "1  Prerequisite user permission for a user to man...  \n",
              "2   Allow users to create, edit and send List Emails  \n",
              "3  Access Salesforce.com only through a Salesforc...  \n",
              "4                  Create Apex classes and triggers.  "
            ]
          },
          "execution_count": 6,
          "metadata": {},
          "output_type": "execute_result"
        }
      ],
      "source": [
        "url = \"https://raw.githubusercontent.com/TOM-BOHN/SFDC-User-Permissions-AI/refs/heads/main/data/input/User_Permission_Reference_Data__Sample.csv\"\n",
        "perm_list_df = pd.read_csv(url)\n",
        "perm_list_df.head()"
      ]
    },
    {
      "cell_type": "code",
      "execution_count": 7,
      "metadata": {
        "colab": {
          "base_uri": "https://localhost:8080/"
        },
        "id": "PlDez_IuvVc1",
        "outputId": "2836be1c-afac-413e-e737-b7b69d6bf20a"
      },
      "outputs": [
        {
          "name": "stdout",
          "output_type": "stream",
          "text": [
            "# Permission Risk Evaluation Prompt Template  \n",
            "# --------------------------------------------------\n",
            "# This template can be imported and formatted with the specific\n",
            "# `permission_name` and `permission_description` variables to create\n",
            "# a concrete evaluation prompt for any Salesforce permission.\n",
            "# --------------------------------------------------\n",
            "\n",
            "PERMISSION_RISK_PROMPT = \"\"\"\n",
            "# Instruction\n",
            "You are a **Salesforce security risk assessor**.\n",
            "Your task is to evaluate the **inherent risk level** of a Salesforce permission (or capability) when granted to a user.\n",
            "We will provide you with the permission name and a short description of what it allows.\n",
            "Analyze the permission against the **Evaluation Criteria** below and assign one of the five **Risk Levels** defined in the Rating Rubric.\n",
            "Give step‑by‑step reasoning for your decision, citing the specific criteria that most influenced your rating.\n",
            "\n",
            "# Evaluation\n",
            "\n",
            "## Metric Definition\n",
            "**Permission Risk** [aka weighted_score] measures the potential negative impact of the permission overall on data confidentiality, integrity, availability, compliance, or overall business operations.\n",
            "**Criteria Risk** measure the potential negative impact of the permission on a specific criteria.\n",
            "\n",
            "\n",
            "## Evaluation Criteria  \n",
            "For each criterion, assign an integer score from **1 (very low risk) to 5 (very high risk)**.\n",
            "Stay strictly grounded in the permission description and official Salesforce documentation—**do not invent capabilities**.\n",
            "\n",
            "\n",
            "## Criterion\n",
            "1. **Data_Sensitivity** – Degree to which the permission exposes, exports, or alters sensitive data such as PII, PHI, financials, trade secrets, or encryption keys.\n",
            "2. **Scope_of_Impact** – Breadth of records, objects, or org‑wide settings the permission can affect in a single action.\n",
            "3. **Configurational_Authority** – AAbility to change metadata, code, automation, or system settings that influence other users or system behavior.\n",
            "4. **External_Data_Exposure** – Capacity to move data outside the org boundary via APIs, exports, outbound email, or external connections.\n",
            "5. **Regulatory_Obligation** – Likelihood that misuse violates SOX, GDPR, HIPAA, PCI‑DSS, customer contracts, or other legal/regulatory requirements.\n",
            "6. **Segregation_of_Duties** – Potential to create toxic combinations that bypass compensating controls.  \n",
            "7. **Auditability** – Availability and quality of logs to reconstruct activity (lower auditability ⇒ higher risk).  \n",
            "8. **Reversibility** – Ease of rolling back changes or recovering impacted data (irreversible ⇒ higher risk).\n",
            "\n",
            "## Criterion Weights  \n",
            "| Criterion                 | Weight  | Criterion Definition                                                                                                                       |\n",
            "|---------------------------|---------|--------------------------------------------------------------------------------------------------------------------------------------------|\n",
            "| Data_Sensitivity          | 0.25    | Degree to which the permission exposes, exports, or alters sensitive data such as PII, PHI, financials, trade secrets, or encryption keys. |\n",
            "| Scope_of_Impact           | 0.20    | Breadth of records, objects, or org‑wide settings the permission can affect in a single action.                                            |\n",
            "| Configurational_Authority | 0.15    | Ability to change metadata, code, automation, or system settings that influence other users or system behavior.                            |\n",
            "| External_Data_Exposure    | 0.10    | Capacity to move data outside the org boundary via APIs, exports, outbound email, or external connections.                                 |\n",
            "| Regulatory_Obligation     | 0.10    | Likelihood that misuse violates SOX, GDPR, HIPAA, PCI‑DSS, customer contracts, or other legal/regulatory requirements.                     |\n",
            "| Segregation_of_Duties     | 0.10    | Potential to create toxic combinations that bypass compensating controls.                                                                  |\n",
            "| Auditability              | 0.05    | Availability and quality of logs to reconstruct activity (lower auditability ⇒ higher risk).                                               |\n",
            "| Reversibility             | 0.05    | Ease of rolling back changes or recovering impacted data (irreversible ⇒ higher risk).                                                     |\n",
            "\n",
            "\n",
            "## Risk Rating Rubric  \n",
            "5 – **Mission Critical**: Severe impact; misuse could trigger legal breaches or catastrophic operational failure.  \n",
            "4 – **Restricted**: High impact; limited to a few named custodians, tightly controlled and logged.  \n",
            "3 – **Sensitive**: Moderate‑high impact; allowed only to approved roles with strong oversight.  \n",
            "2 – **Controlled**: Moderate impact; broadly available but actively monitored.  \n",
            "1 – **General**: Minimal impact; safe for most users under standard policies.\n",
            "\n",
            "\n",
            "## Risk Rating Rubric (map weighted score → Risk Tier)\n",
            "| Weighted Score Range | Risk Rating | Risk Rating Tier | Impact        | Risk Rating Definition                                                   |\n",
            "|----------------------|-------------|------------------|---------------|--------------------------------------------------------------------------|\n",
            "| 4.5 –  5.0           | 5           | Mission Critical | Severe        | Misuse could trigger legal breaches or catastrophic operational failure. |\n",
            "| 3.5 – <4.5           | 4           | Restricted       | High          | Limited to a few named custodians, tightly controlled and logged.        |\n",
            "| 2.5 – <3.5           | 3           | Sensitive        | Moderate‑High | Allowed only to approved roles with strong oversight.                    |\n",
            "| 1.5 – <2.5           | 2           | Controlled       | Moderate      | Broadly available but actively monitored.                                |\n",
            "| 1.0 – <1.5           | 1           | General          | Minimal       | Safe for most users under standard policies.                             |\n",
            "\n",
            "# Evaluation Steps\n",
            "STEP 1 - **Score Criterion** - Evaluate the permission against each criterion to obtain a **criterion risk** (1-5), noting specific risk factors.\n",
            "STEP 2 - **Score Permission** - Each criterion risk score is **multiplied** by its weight and **sumed** to obtain the **permission risk (weighted_score)** (round to one decimal place).  \n",
            "STEP 3 - **Risk Rating** - Select the overall Risk Level using the Rating Rubric by **Maping** the permission risk (weighted_score) to a **risk_rating_tier**.\n",
            "STEP 4 – **Summarize** - Aggregate findings and assess your confidence in the risk rating.  \n",
            "STEP 5 - **Output** - Format the output exactly as specified in the JSON object described below—nothing else.\n",
            "\n",
            "\n",
            "# Output Schema (JSON only)\n",
            "```\n",
            "{{\n",
            "  \"risk_tier\": \"<General|Controlled|Sensitive|Restricted|Mission Critical>\",\n",
            "  \"risk_rating\": \"<1|2|3|4|5>\",\n",
            "  \"weighted_score\": <float>,\n",
            "  \"scores\": {{\n",
            "    \"Data_Sensitivity\": <int>,\n",
            "    \"Scope_of_Impact\": <int>,\n",
            "    \"Configurational_Authority\": <int>,\n",
            "    \"External_Data_Exposure\": <int>,\n",
            "    \"Regulatory_Obligation\": <int>,\n",
            "    \"Segregation_of_Duties\": <int>,\n",
            "    \"Auditability\": <int>,\n",
            "    \"Reversibility\": <int>\n",
            "  }},\n",
            "  \"rationale\": \"<3‑5 succinct sentences referencing the highest‑impact criteria>\",\n",
            "  \"confidence\": \"<High|Medium|Low>\"\n",
            "}}\n",
            "```\n",
            "\n",
            "# Input\n",
            "**Permission Name:** {permission_name}  \n",
            "**Permission Description:** {permission_description}\n",
            "\n",
            "\n",
            "# Worked Example (for illustration only – **omit** from real answers)\n",
            "```\n",
            "permission_name: \"Modify All Data\"\n",
            "permission_description: \"Grants the user the ability to read, create, edit, and delete **all** records in the org, ignoring sharing rules and field‑level security.\"\n",
            "\n",
            "Expected JSON Output:\n",
            "{{\n",
            "  \"risk_tier\": \"Mission Critical\",\n",
            "  \"weighted_score\": 4.8,\n",
            "  \"scores\": {{\n",
            "    \"Data_Sensitivity\": 5,\n",
            "    \"Scope_of_Impact\": 5,\n",
            "    \"Configurational_Authority\": 3,\n",
            "    \"External_Data_Exposure\": 3,\n",
            "    \"Regulatory_Obligation\": 5,\n",
            "    \"Segregation_of_Duties\": 4,\n",
            "    \"Auditability\": 3,\n",
            "    \"Reversibility\": 4\n",
            "  }},\n",
            "  \"rationale\": \"Permission overrides all sharing controls and touches sensitive data org‑wide. Misuse would violate multiple regulatory obligations and cannot be fully reversed without significant effort.\",\n",
            "  \"confidence\": \"High\"\n",
            "}}\n",
            "```\n",
            "\"\"\"\n"
          ]
        }
      ],
      "source": [
        "with open('/content/SFDC-User-Permissions-AI/src/prompts/templates/prompt_user_perm_risk_rating.md', 'r') as f:\n",
        "    PROMPT_USER_PERM_RISK_RATING = f.read()\n",
        "\n",
        "print(PROMPT_USER_PERM_RISK_RATING)"
      ]
    },
    {
      "cell_type": "code",
      "execution_count": 8,
      "metadata": {
        "colab": {
          "base_uri": "https://localhost:8080/"
        },
        "id": "Xil_angB5HlJ",
        "outputId": "4d82ede1-337a-4e67-96cd-253943c60108"
      },
      "outputs": [
        {
          "name": "stdout",
          "output_type": "stream",
          "text": [
            "Risk Rating: SENSITIVE (3)\n"
          ]
        }
      ],
      "source": [
        "chat_session = create_chat_session(client = client, model_name='gemini-2.0-flash')\n",
        "\n",
        "# Evaluate a single permission\n",
        "text_eval, struct_eval = eval_summary(\n",
        "    prompt=PROMPT_USER_PERM_RISK_RATING,\n",
        "    name=perm_list_df['Permission Name'][0],\n",
        "    api_name=perm_list_df['API Name'][0],\n",
        "    description=perm_list_df['Description'][0],\n",
        "    model_name='gemini-2.0-flash',\n",
        "    client=client,\n",
        "    chat_session=chat_session  # Reuse the same session\n",
        ")\n",
        "\n",
        "# Display the result\n",
        "Markdown(text_eval)\n",
        "print(f\"Risk Rating: {struct_eval.name} ({struct_eval.value})\")"
      ]
    },
    {
      "cell_type": "code",
      "execution_count": 11,
      "metadata": {
        "colab": {
          "base_uri": "https://localhost:8080/",
          "height": 218
        },
        "id": "ABUb-zzmRKgY",
        "outputId": "07f698e5-b0ce-473c-c931-47041f55e9d3"
      },
      "outputs": [
        {
          "ename": "TypeError",
          "evalue": "classify_risk_rating() missing 1 required positional argument: 'eval_func'",
          "output_type": "error",
          "traceback": [
            "\u001b[0;31m---------------------------------------------------------------------------\u001b[0m",
            "\u001b[0;31mTypeError\u001b[0m                                 Traceback (most recent call last)",
            "\u001b[0;32m<ipython-input-11-bd8e8efd664d>\u001b[0m in \u001b[0;36m<cell line: 0>\u001b[0;34m()\u001b[0m\n\u001b[0;32m----> 1\u001b[0;31m results_df = classify_risk_rating(\n\u001b[0m\u001b[1;32m      2\u001b[0m       \u001b[0minput_df\u001b[0m \u001b[0;34m=\u001b[0m \u001b[0mperm_list_df\u001b[0m\u001b[0;34m\u001b[0m\u001b[0;34m\u001b[0m\u001b[0m\n\u001b[1;32m      3\u001b[0m     \u001b[0;34m,\u001b[0m \u001b[0mprompt\u001b[0m \u001b[0;34m=\u001b[0m \u001b[0mPROMPT_USER_PERM_RISK_RATING\u001b[0m\u001b[0;34m\u001b[0m\u001b[0;34m\u001b[0m\u001b[0m\n\u001b[1;32m      4\u001b[0m     \u001b[0;34m,\u001b[0m \u001b[0mtotal_records\u001b[0m \u001b[0;34m=\u001b[0m \u001b[0;36m2\u001b[0m\u001b[0;34m\u001b[0m\u001b[0;34m\u001b[0m\u001b[0m\n\u001b[1;32m      5\u001b[0m     \u001b[0;34m,\u001b[0m \u001b[0mcheckin_interval\u001b[0m \u001b[0;34m=\u001b[0m \u001b[0;36m60\u001b[0m\u001b[0;34m\u001b[0m\u001b[0;34m\u001b[0m\u001b[0m\n",
            "\u001b[0;31mTypeError\u001b[0m: classify_risk_rating() missing 1 required positional argument: 'eval_func'"
          ]
        }
      ],
      "source": [
        "results_df = classify_risk_rating(\n",
        "      input_df = perm_list_df\n",
        "    , eval_func = eval_summary\n",
        "    , prompt = PROMPT_USER_PERM_RISK_RATING\n",
        "    , model_name = 'gemini-2.0-flash'\n",
        "    , client = client\n",
        "    , total_records = 2\n",
        "    , checkin_interval = 60\n",
        "    , debug = True\n",
        "  )\n",
        "results_df"
      ]
    },
    {
      "cell_type": "code",
      "execution_count": null,
      "metadata": {
        "id": "OeU1XytESplj"
      },
      "outputs": [],
      "source": [
        "full_results_df = extract_json_fields(\n",
        "    results_df\n",
        "  , json_column='Evaluation'\n",
        "  , debug = True\n",
        ")"
      ]
    },
    {
      "cell_type": "code",
      "execution_count": null,
      "metadata": {
        "id": "lD6j7uEcUj--"
      },
      "outputs": [],
      "source": [
        "results_df['Evaluation'][1]"
      ]
    },
    {
      "cell_type": "code",
      "execution_count": null,
      "metadata": {
        "id": "3HM7ByhTZ-VE"
      },
      "outputs": [],
      "source": [
        "results_df.iloc[0].to_dict()"
      ]
    },
    {
      "cell_type": "code",
      "execution_count": null,
      "metadata": {
        "id": "ToLuo8fggy_o"
      },
      "outputs": [],
      "source": [
        "# Save the results DataFrame\n",
        "save_data(\n",
        "    data=results_df,\n",
        "    filename='results',\n",
        "    data_type='output',  # This will save to data/output/\n",
        "    format='csv',\n",
        "    index=False\n",
        ")"
      ]
    },
    {
      "cell_type": "code",
      "execution_count": null,
      "metadata": {
        "id": "ifnVPQgQhbFL"
      },
      "outputs": [],
      "source": []
    }
  ],
  "metadata": {
    "colab": {
      "include_colab_link": true,
      "provenance": []
    },
    "kernelspec": {
      "display_name": "Python 3",
      "name": "python3"
    },
    "language_info": {
      "name": "python",
      "version": "3.13.0"
    }
  },
  "nbformat": 4,
  "nbformat_minor": 0
}
